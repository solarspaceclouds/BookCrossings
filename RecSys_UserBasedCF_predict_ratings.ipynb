{
 "cells": [
  {
   "cell_type": "markdown",
   "metadata": {},
   "source": [
    "https://github.com/yjeong5126/movie_recommender/blob/master/item_based_collaborative_filtering/item_based_collaborative_filtering.ipynb"
   ]
  },
  {
   "cell_type": "markdown",
   "metadata": {},
   "source": [
    "# Item-based Collaborative Filtering\n",
    "\n",
    "### Main idea: For item i, find other similar items\n",
    "\n",
    "### Method: Estimate rating for item i based on ratings for similar items"
   ]
  },
  {
   "cell_type": "code",
   "execution_count": 1,
   "metadata": {},
   "outputs": [
    {
     "name": "stderr",
     "output_type": "stream",
     "text": [
      "/home/solarspaceclouds/Desktop/RecommendationSystem/recsys/lib/python3.10/site-packages/tqdm/auto.py:21: TqdmWarning: IProgress not found. Please update jupyter and ipywidgets. See https://ipywidgets.readthedocs.io/en/stable/user_install.html\n",
      "  from .autonotebook import tqdm as notebook_tqdm\n"
     ]
    }
   ],
   "source": [
    "import pandas as pd\n",
    "import numpy as np\n",
    "from surprise import Dataset, Reader, SVD\n",
    "from surprise.model_selection import train_test_split\n",
    "from sklearn.preprocessing import LabelEncoder\n",
    "from sklearn.metrics.pairwise import cosine_similarity\n",
    "from tqdm.auto import tqdm\n",
    "\n",
    "import torch"
   ]
  },
  {
   "cell_type": "code",
   "execution_count": 2,
   "metadata": {},
   "outputs": [],
   "source": [
    "device = torch.device('cuda' if torch.cuda.is_available() else 'cpu')"
   ]
  },
  {
   "cell_type": "code",
   "execution_count": 3,
   "metadata": {},
   "outputs": [
    {
     "data": {
      "text/plain": [
       "1031175"
      ]
     },
     "execution_count": 3,
     "metadata": {},
     "output_type": "execute_result"
    }
   ],
   "source": [
    "all_ratings = pd.read_csv(\"all_ratings.csv\", index_col=False)\n",
    "len(all_ratings)"
   ]
  },
  {
   "cell_type": "code",
   "execution_count": 4,
   "metadata": {},
   "outputs": [
    {
     "data": {
      "text/plain": [
       "40000"
      ]
     },
     "execution_count": 4,
     "metadata": {},
     "output_type": "execute_result"
    }
   ],
   "source": [
    "all_ratings = all_ratings[:40000] # subset chosen to address memory constraints in later parts of pipeline\n",
    "len(all_ratings)"
   ]
  },
  {
   "cell_type": "code",
   "execution_count": 5,
   "metadata": {},
   "outputs": [],
   "source": [
    "unique_user_ids = all_ratings.userId.unique()\n",
    "# reindex the userId\n",
    "user_id_mapping = {user_id: i + 1 for i, user_id in enumerate(unique_user_ids)}\n",
    "\n",
    "# Map the 'userId' column using the mapping dictionary\n",
    "all_ratings['userId'] = all_ratings['userId'].map(user_id_mapping)\n"
   ]
  },
  {
   "cell_type": "code",
   "execution_count": 6,
   "metadata": {},
   "outputs": [
    {
     "data": {
      "text/plain": [
       "Index(['userId', 'ISBN', 'bookRating', 'bookTitle', 'bookAuthor',\n",
       "       'yearOfPublication', 'publisher', 'location', 'age'],\n",
       "      dtype='object')"
      ]
     },
     "execution_count": 6,
     "metadata": {},
     "output_type": "execute_result"
    }
   ],
   "source": [
    "# all_ratings = all_ratings.drop(['Unnamed: 0'],axis=1)\n",
    "# all_ratings = all_ratings.reset_index(drop=True)\n",
    "all_ratings.columns"
   ]
  },
  {
   "cell_type": "code",
   "execution_count": 7,
   "metadata": {},
   "outputs": [
    {
     "data": {
      "text/html": [
       "<div>\n",
       "<style scoped>\n",
       "    .dataframe tbody tr th:only-of-type {\n",
       "        vertical-align: middle;\n",
       "    }\n",
       "\n",
       "    .dataframe tbody tr th {\n",
       "        vertical-align: top;\n",
       "    }\n",
       "\n",
       "    .dataframe thead th {\n",
       "        text-align: right;\n",
       "    }\n",
       "</style>\n",
       "<table border=\"1\" class=\"dataframe\">\n",
       "  <thead>\n",
       "    <tr style=\"text-align: right;\">\n",
       "      <th></th>\n",
       "      <th>userId</th>\n",
       "      <th>ISBN</th>\n",
       "      <th>bookRating</th>\n",
       "      <th>bookTitle</th>\n",
       "      <th>bookAuthor</th>\n",
       "      <th>yearOfPublication</th>\n",
       "      <th>publisher</th>\n",
       "      <th>location</th>\n",
       "      <th>age</th>\n",
       "    </tr>\n",
       "  </thead>\n",
       "  <tbody>\n",
       "    <tr>\n",
       "      <th>0</th>\n",
       "      <td>1</td>\n",
       "      <td>034545104X</td>\n",
       "      <td>0</td>\n",
       "      <td>Flesh Tones: A Novel</td>\n",
       "      <td>M. J. Rose</td>\n",
       "      <td>2002</td>\n",
       "      <td>Ballantine Books</td>\n",
       "      <td>tyler, texas, usa</td>\n",
       "      <td>NaN</td>\n",
       "    </tr>\n",
       "    <tr>\n",
       "      <th>1</th>\n",
       "      <td>2</td>\n",
       "      <td>034545104X</td>\n",
       "      <td>5</td>\n",
       "      <td>Flesh Tones: A Novel</td>\n",
       "      <td>M. J. Rose</td>\n",
       "      <td>2002</td>\n",
       "      <td>Ballantine Books</td>\n",
       "      <td>cincinnati, ohio, usa</td>\n",
       "      <td>23.0</td>\n",
       "    </tr>\n",
       "    <tr>\n",
       "      <th>2</th>\n",
       "      <td>2</td>\n",
       "      <td>0812533550</td>\n",
       "      <td>9</td>\n",
       "      <td>Ender's Game (Ender Wiggins Saga (Paperback))</td>\n",
       "      <td>Orson Scott Card</td>\n",
       "      <td>1986</td>\n",
       "      <td>Tor Books</td>\n",
       "      <td>cincinnati, ohio, usa</td>\n",
       "      <td>23.0</td>\n",
       "    </tr>\n",
       "    <tr>\n",
       "      <th>3</th>\n",
       "      <td>2</td>\n",
       "      <td>0679745580</td>\n",
       "      <td>8</td>\n",
       "      <td>In Cold Blood (Vintage International)</td>\n",
       "      <td>TRUMAN CAPOTE</td>\n",
       "      <td>1994</td>\n",
       "      <td>Vintage</td>\n",
       "      <td>cincinnati, ohio, usa</td>\n",
       "      <td>23.0</td>\n",
       "    </tr>\n",
       "    <tr>\n",
       "      <th>4</th>\n",
       "      <td>2</td>\n",
       "      <td>0060173289</td>\n",
       "      <td>9</td>\n",
       "      <td>Divine Secrets of the Ya-Ya Sisterhood : A Novel</td>\n",
       "      <td>Rebecca Wells</td>\n",
       "      <td>1996</td>\n",
       "      <td>HarperCollins</td>\n",
       "      <td>cincinnati, ohio, usa</td>\n",
       "      <td>23.0</td>\n",
       "    </tr>\n",
       "  </tbody>\n",
       "</table>\n",
       "</div>"
      ],
      "text/plain": [
       "   userId        ISBN  bookRating  \\\n",
       "0       1  034545104X           0   \n",
       "1       2  034545104X           5   \n",
       "2       2  0812533550           9   \n",
       "3       2  0679745580           8   \n",
       "4       2  0060173289           9   \n",
       "\n",
       "                                          bookTitle        bookAuthor  \\\n",
       "0                              Flesh Tones: A Novel        M. J. Rose   \n",
       "1                              Flesh Tones: A Novel        M. J. Rose   \n",
       "2     Ender's Game (Ender Wiggins Saga (Paperback))  Orson Scott Card   \n",
       "3             In Cold Blood (Vintage International)     TRUMAN CAPOTE   \n",
       "4  Divine Secrets of the Ya-Ya Sisterhood : A Novel     Rebecca Wells   \n",
       "\n",
       "   yearOfPublication         publisher               location   age  \n",
       "0               2002  Ballantine Books      tyler, texas, usa   NaN  \n",
       "1               2002  Ballantine Books  cincinnati, ohio, usa  23.0  \n",
       "2               1986         Tor Books  cincinnati, ohio, usa  23.0  \n",
       "3               1994           Vintage  cincinnati, ohio, usa  23.0  \n",
       "4               1996     HarperCollins  cincinnati, ohio, usa  23.0  "
      ]
     },
     "execution_count": 7,
     "metadata": {},
     "output_type": "execute_result"
    }
   ],
   "source": [
    "all_ratings.head()"
   ]
  },
  {
   "cell_type": "code",
   "execution_count": 10,
   "metadata": {},
   "outputs": [],
   "source": [
    "item_to_check = \"The Great Gatsby\""
   ]
  },
  {
   "cell_type": "code",
   "execution_count": 11,
   "metadata": {},
   "outputs": [
    {
     "name": "stdout",
     "output_type": "stream",
     "text": [
      "Users who have read 'The Great Gatsby':\n",
      "[29, 70, 86]\n"
     ]
    }
   ],
   "source": [
    "def users_read_book(book_title):\n",
    "    users_list = all_ratings[all_ratings['bookTitle'] == book_title]['userId'].tolist()\n",
    "    return users_list\n",
    "\n",
    "users_list_for_book = users_read_book(item_to_check)\n",
    "\n",
    "print(f\"Users who have read '{item_to_check}':\")\n",
    "print(users_list_for_book)"
   ]
  },
  {
   "cell_type": "code",
   "execution_count": 12,
   "metadata": {},
   "outputs": [
    {
     "data": {
      "text/plain": [
       "array([  1,   2,   3,   4,   5,   6,   7,   8,   9,  10,  11,  12,  13,\n",
       "        14,  15,  16,  17,  18,  19,  20,  21,  22,  23,  24,  25,  26,\n",
       "        27,  28,  29,  30,  31,  32,  33,  34,  35,  36,  37,  38,  39,\n",
       "        40,  41,  42,  43,  44,  45,  46,  47,  48,  49,  50,  51,  52,\n",
       "        53,  54,  55,  56,  57,  58,  59,  60,  61,  62,  63,  64,  65,\n",
       "        66,  67,  68,  69,  70,  71,  72,  73,  74,  75,  76,  77,  78,\n",
       "        79,  80,  81,  82,  83,  84,  85,  86,  87,  88,  89,  90,  91,\n",
       "        92,  93,  94,  95,  96,  97,  98,  99, 100])"
      ]
     },
     "execution_count": 12,
     "metadata": {},
     "output_type": "execute_result"
    }
   ],
   "source": [
    "all_ratings.userId.unique()"
   ]
  },
  {
   "cell_type": "code",
   "execution_count": 13,
   "metadata": {},
   "outputs": [],
   "source": [
    "all_ratings = all_ratings[['bookTitle','userId','bookRating']]"
   ]
  },
  {
   "cell_type": "code",
   "execution_count": 15,
   "metadata": {},
   "outputs": [],
   "source": [
    "import pandas as pd\n",
    "from surprise import Dataset\n",
    "from surprise import Reader"
   ]
  },
  {
   "cell_type": "code",
   "execution_count": 16,
   "metadata": {},
   "outputs": [
    {
     "data": {
      "text/plain": [
       "array([  1,   2,   3,   4,   5,   6,   7,   8,   9,  10,  11,  12,  13,\n",
       "        14,  15,  16,  17,  18,  19,  20,  21,  22,  23,  24,  25,  26,\n",
       "        27,  28,  29,  30,  31,  32,  33,  34,  35,  36,  37,  38,  39,\n",
       "        40,  41,  42,  43,  44,  45,  46,  47,  48,  49,  50,  51,  52,\n",
       "        53,  54,  55,  56,  57,  58,  59,  60,  61,  62,  63,  64,  65,\n",
       "        66,  67,  68,  69,  70,  71,  72,  73,  74,  75,  76,  77,  78,\n",
       "        79,  80,  81,  82,  83,  84,  85,  86,  87,  88,  89,  90,  91,\n",
       "        92,  93,  94,  95,  96,  97,  98,  99, 100])"
      ]
     },
     "execution_count": 16,
     "metadata": {},
     "output_type": "execute_result"
    }
   ],
   "source": [
    "all_ratings.userId.unique()"
   ]
  },
  {
   "cell_type": "code",
   "execution_count": 17,
   "metadata": {},
   "outputs": [],
   "source": [
    "reader = Reader(rating_scale=(1, 10))"
   ]
  },
  {
   "cell_type": "code",
   "execution_count": 18,
   "metadata": {},
   "outputs": [],
   "source": [
    "all_ratings = all_ratings[all_ratings['bookRating']!=0]\n",
    "df = all_ratings[['bookTitle','userId','bookRating']]\n",
    "df.head()"
   ]
  },
  {
   "cell_type": "code",
   "execution_count": 19,
   "metadata": {},
   "outputs": [
    {
     "data": {
      "text/plain": [
       "array([ 5,  9,  8,  7,  6, 10,  3,  4,  2,  1])"
      ]
     },
     "execution_count": 19,
     "metadata": {},
     "output_type": "execute_result"
    }
   ],
   "source": [
    "all_ratings.bookRating.unique()"
   ]
  },
  {
   "cell_type": "code",
   "execution_count": 21,
   "metadata": {},
   "outputs": [],
   "source": [
    "desired_bookTitle = 'Seal it with a Kiss'\n",
    "# desired_bookTitle = 'The Great Gatsby'\n",
    "# specified_userid = 2313\n",
    "specified_userid = 2\n",
    "already_read_list = list(all_ratings[all_ratings['userId'] == specified_userid]['bookTitle'])"
   ]
  },
  {
   "cell_type": "code",
   "execution_count": 22,
   "metadata": {},
   "outputs": [],
   "source": [
    "from surprise import KNNWithMeans\n",
    "\n",
    "# To use item-based cosine similarity\n",
    "sim_options = {\n",
    "    \"name\": \"cosine\",\n",
    "    \"user_based\": False,  # Compute  similarities between items\n",
    "}\n",
    "algo = KNNWithMeans(sim_options=sim_options)"
   ]
  },
  {
   "cell_type": "code",
   "execution_count": 23,
   "metadata": {},
   "outputs": [
    {
     "name": "stdout",
     "output_type": "stream",
     "text": [
      "Computing the cosine similarity matrix...\n",
      "Done computing similarity matrix.\n"
     ]
    },
    {
     "data": {
      "text/plain": [
       "<surprise.prediction_algorithms.knns.KNNWithMeans at 0x7f6b78fda110>"
      ]
     },
     "execution_count": 23,
     "metadata": {},
     "output_type": "execute_result"
    }
   ],
   "source": [
    "algo = KNNWithMeans(sim_options=sim_options)\n",
    "\n",
    "reader = Reader(rating_scale=(1, 10))\n",
    "\n",
    "data = Dataset.load_from_df(df, reader)\n",
    "trainingSet = data.build_full_trainset()\n",
    "\n",
    "algo.fit(trainingSet)"
   ]
  },
  {
   "cell_type": "code",
   "execution_count": 24,
   "metadata": {},
   "outputs": [
    {
     "data": {
      "text/plain": [
       "7.999938979741274"
      ]
     },
     "execution_count": 24,
     "metadata": {},
     "output_type": "execute_result"
    }
   ],
   "source": [
    "prediction = algo.predict(specified_userid, desired_bookTitle)\n",
    "prediction.est"
   ]
  },
  {
   "cell_type": "markdown",
   "metadata": {},
   "source": [
    "## User-based Collaborative Filtering"
   ]
  },
  {
   "cell_type": "code",
   "execution_count": 25,
   "metadata": {},
   "outputs": [
    {
     "name": "stdout",
     "output_type": "stream",
     "text": [
      "Computing the msd similarity matrix...\n",
      "Done computing similarity matrix.\n",
      "Computing the msd similarity matrix...\n",
      "Done computing similarity matrix.\n",
      "Computing the msd similarity matrix...\n",
      "Done computing similarity matrix.\n",
      "Computing the msd similarity matrix...\n",
      "Done computing similarity matrix.\n",
      "Computing the msd similarity matrix...\n",
      "Done computing similarity matrix.\n",
      "Computing the msd similarity matrix...\n",
      "Done computing similarity matrix.\n",
      "Computing the msd similarity matrix...\n",
      "Done computing similarity matrix.\n",
      "Computing the msd similarity matrix...\n",
      "Done computing similarity matrix.\n",
      "Computing the msd similarity matrix...\n",
      "Done computing similarity matrix.\n",
      "Computing the cosine similarity matrix...\n",
      "Done computing similarity matrix.\n",
      "Computing the cosine similarity matrix...\n",
      "Done computing similarity matrix.\n",
      "Computing the cosine similarity matrix...\n",
      "Done computing similarity matrix.\n",
      "Computing the cosine similarity matrix...\n",
      "Done computing similarity matrix.\n",
      "Computing the cosine similarity matrix...\n",
      "Done computing similarity matrix.\n",
      "Computing the cosine similarity matrix...\n",
      "Done computing similarity matrix.\n",
      "Computing the cosine similarity matrix...\n",
      "Done computing similarity matrix.\n",
      "Computing the cosine similarity matrix...\n",
      "Done computing similarity matrix.\n",
      "Computing the cosine similarity matrix...\n",
      "Done computing similarity matrix.\n",
      "1.871461486313699\n",
      "{'sim_options': {'name': 'cosine', 'min_support': 4, 'user_based': True}}\n"
     ]
    }
   ],
   "source": [
    "from surprise import KNNWithMeans\n",
    "from surprise import Dataset\n",
    "from surprise.model_selection import GridSearchCV\n",
    "\n",
    "# Gridsearch to get the best User-based Collaborative filtering model\n",
    "sim_options = {\n",
    "    \"name\": [\"msd\", \"cosine\"],\n",
    "    \"min_support\": [3, 4, 5],\n",
    "    \"user_based\": [True],\n",
    "}\n",
    "\n",
    "param_grid = {\"sim_options\": sim_options}\n",
    "\n",
    "gs = GridSearchCV(KNNWithMeans, param_grid, measures=[\"rmse\", \"mae\"], cv=3)\n",
    "gs.fit(data)\n",
    "\n",
    "print(gs.best_score[\"rmse\"])\n",
    "print(gs.best_params[\"rmse\"])"
   ]
  },
  {
   "cell_type": "code",
   "execution_count": 26,
   "metadata": {},
   "outputs": [
    {
     "name": "stdout",
     "output_type": "stream",
     "text": [
      "Computing the cosine similarity matrix...\n",
      "Done computing similarity matrix.\n",
      "Computing the cosine similarity matrix...\n",
      "Done computing similarity matrix.\n"
     ]
    },
    {
     "data": {
      "text/plain": [
       "<surprise.prediction_algorithms.knns.KNNWithMeans at 0x7f6b78fda7d0>"
      ]
     },
     "execution_count": 26,
     "metadata": {},
     "output_type": "execute_result"
    }
   ],
   "source": [
    "sim_options = gs.best_params[\"rmse\"]['sim_options']\n",
    "algo = KNNWithMeans(sim_options=sim_options)\n",
    "\n",
    "all_ratings = all_ratings[all_ratings['bookRating']!=0]\n",
    "reader = Reader(rating_scale=(1, 10))\n",
    "reader = Dataset.load_from_df(all_ratings[['userId', 'bookTitle', 'bookRating']], reader).build_full_trainset()\n",
    "algo.fit(reader)\n",
    "\n",
    "data = Dataset.load_from_df(all_ratings[[\"userId\", \"bookTitle\", \"bookRating\"]], reader)\n",
    "trainingSet = data.build_full_trainset()\n",
    "\n",
    "algo.fit(trainingSet)"
   ]
  },
  {
   "cell_type": "code",
   "execution_count": 27,
   "metadata": {},
   "outputs": [],
   "source": [
    "# Get the user's top N recommendations\n",
    "k = 5  # k num of neighbours\n",
    "num_recs = 10 # N num of recommendations\n",
    "\n",
    "user_inner_id = algo.trainset.to_inner_uid(specified_userid)\n",
    "user_neighbors = algo.get_neighbors(user_inner_id, k=k)\n",
    "\n",
    "# Convert inner IDs back to the original user IDs\n",
    "user_neighbors = [algo.trainset.to_raw_uid(inner_id) for inner_id in user_neighbors]\n",
    "\n",
    "#Get list of user's nearest neighbors based on the trained model\n",
    "# -->Recommend books from these nearest neighbors' rated books\n",
    "recommended_books = []\n",
    "\n",
    "for neighbor_userid in user_neighbors:\n",
    "    \n",
    "    neighbor_ratings = all_ratings[all_ratings[\"userId\"] == neighbor_userid]\n",
    "\n",
    "    # Filter out books that the specified user has already rated\n",
    "    # already_read_list = list(all_ratings[all_ratings['userId'] == specified_userid]['bookTitle'])\n",
    "    neighbor_ratings = neighbor_ratings[~neighbor_ratings[\"bookTitle\"].isin([already_read_list])] \n",
    "    \n",
    "\n",
    "    # Sort by bookRating in descending order to recommend the highest-rated books\n",
    "    neighbor_ratings = neighbor_ratings.sort_values(by=\"bookRating\", ascending=False)\n",
    "\n",
    "    # take the top-rated books from each neighbor and add them to the recommended_books list\n",
    "    top_n_books = neighbor_ratings.head(num_recs)  \n",
    "    recommended_books.extend(top_n_books[\"bookTitle\"].tolist())\n",
    "\n"
   ]
  },
  {
   "cell_type": "code",
   "execution_count": 28,
   "metadata": {},
   "outputs": [
    {
     "data": {
      "text/plain": [
       "50"
      ]
     },
     "execution_count": 28,
     "metadata": {},
     "output_type": "execute_result"
    }
   ],
   "source": [
    "len(recommended_books)"
   ]
  },
  {
   "cell_type": "code",
   "execution_count": 29,
   "metadata": {},
   "outputs": [
    {
     "name": "stdout",
     "output_type": "stream",
     "text": [
      "Recommended books for user 2 :\n",
      "['Go Ask Alice (AvonFlare Book)',\n",
      " 'The Cat Who Went up the Creek',\n",
      " 'Riding Shotgun',\n",
      " 'The World According to Garp',\n",
      " 'Considering Kate (The Stanislaskis) (Silhouette Special Edition)',\n",
      " 'Last Days of Summer',\n",
      " 'The Trial and Death of Socrates : Four Dialogues (Dover Thrift Editions)',\n",
      " \"The Quilter's Apprentice\",\n",
      " 'Walking Across Egypt',\n",
      " 'Paris to the Moon',\n",
      " 'Roses Are Red (Alex Cross Novels)',\n",
      " 'Toot & Puddle',\n",
      " 'A Little Look-See:  Mutts 6',\n",
      " 'The Highwayman',\n",
      " 'The Essential Calvin and Hobbes',\n",
      " \"Lamb : The Gospel According to Biff, Christ's Childhood Pal\",\n",
      " 'Howl and Other Poems (Pocket Poets)',\n",
      " 'A Dog Year: Twelve Months, Four Dogs, and Me',\n",
      " 'Basket Case',\n",
      " 'Shinju',\n",
      " 'E-Wally and the Quest',\n",
      " 'Border Music',\n",
      " 'Twas the Night Before: A Love Story',\n",
      " 'Quentins',\n",
      " 'Standing in the Rainbow : A Novel',\n",
      " 'Five Quarters of the Orange',\n",
      " '1984',\n",
      " 'Flesh Tones: A Novel',\n",
      " 'Wuthering Heights',\n",
      " 'She Shall Have Murder (Perennial Library, P638)',\n",
      " 'Flesh Tones: A Novel',\n",
      " 'To Kill a Mockingbird',\n",
      " 'Little Altars Everywhere: A Novel',\n",
      " 'The Red Tent (Bestselling Backlist)',\n",
      " 'Good in Bed',\n",
      " 'Lucky Man: A Memoir',\n",
      " \"The Liar's Club: A Memoir\",\n",
      " 'Brothel: Mustang Ranch and Its Women',\n",
      " 'Rosie: A Novel',\n",
      " 'The Territory of Men',\n",
      " 'Blues Dancing: A Novel',\n",
      " 'Every Womans Health the Complete Guide to Body',\n",
      " 'DK Handbooks: Dogs',\n",
      " 'Blues: For All the Changes : New Poems',\n",
      " 'The Autobiography of Malcolm X',\n",
      " 'The Good Housekeeping Household Encyclopedia',\n",
      " 'An Essential Guide to Choosing Your Tropical Freshwater Fish (Tankmasters '\n",
      " 'Series)',\n",
      " 'The Portable Pediatrician for Parents',\n",
      " 'Ghosts of Mississippi: The Murder of Medgar Evers, the Trials of Byron De LA '\n",
      " 'Beckwith, and the Haunting of the New South (Ghosts of Mississippi)',\n",
      " \"Stanley Newman's Coffee Time Word Games\"]\n"
     ]
    }
   ],
   "source": [
    "from pprint import pprint\n",
    "\n",
    "print(\"Recommended books for user\", specified_userid, \":\")\n",
    "pprint(recommended_books)"
   ]
  },
  {
   "cell_type": "code",
   "execution_count": null,
   "metadata": {},
   "outputs": [],
   "source": []
  }
 ],
 "metadata": {
  "kernelspec": {
   "display_name": "rlrecsys",
   "language": "python",
   "name": "python3"
  },
  "language_info": {
   "codemirror_mode": {
    "name": "ipython",
    "version": 3
   },
   "file_extension": ".py",
   "mimetype": "text/x-python",
   "name": "python",
   "nbconvert_exporter": "python",
   "pygments_lexer": "ipython3",
   "version": "3.10.12"
  }
 },
 "nbformat": 4,
 "nbformat_minor": 2
}
